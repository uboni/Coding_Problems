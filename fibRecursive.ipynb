{
  "nbformat": 4,
  "nbformat_minor": 0,
  "metadata": {
    "colab": {
      "provenance": [],
      "toc_visible": true,
      "authorship_tag": "ABX9TyP8rK+1vrxya7rk0aptBpIs",
      "include_colab_link": true
    },
    "kernelspec": {
      "name": "python3",
      "display_name": "Python 3"
    },
    "language_info": {
      "name": "python"
    }
  },
  "cells": [
    {
      "cell_type": "markdown",
      "metadata": {
        "id": "view-in-github",
        "colab_type": "text"
      },
      "source": [
        "<a href=\"https://colab.research.google.com/github/uboni/Coding_Problems/blob/main/fibRecursive.ipynb\" target=\"_parent\"><img src=\"https://colab.research.google.com/assets/colab-badge.svg\" alt=\"Open In Colab\"/></a>"
      ]
    },
    {
      "cell_type": "markdown",
      "source": [
        "Following is fib example using recursive approach"
      ],
      "metadata": {
        "id": "qMClBecz3eqz"
      }
    },
    {
      "cell_type": "code",
      "execution_count": null,
      "metadata": {
        "colab": {
          "base_uri": "https://localhost:8080/"
        },
        "id": "gtnsjyhs3VrL",
        "outputId": "85143383-03cb-4449-e8b6-a907200cd461"
      },
      "outputs": [
        {
          "output_type": "stream",
          "name": "stdout",
          "text": [
            "before while loop: [8]\n",
            "Inside while loop: [7, 6]\n",
            "Inside while loop: [7, 5, 4]\n",
            "Inside while loop: [7, 5, 3, 2]\n",
            "Inside while loop: [7, 5, 3, 1, 0]\n",
            "Inside while loop: [7, 5, 3, 1]\n",
            "Inside while loop: [7, 5, 3]\n",
            "Inside while loop: [7, 5, 2, 1]\n",
            "Inside while loop: [7, 5, 2]\n",
            "Inside while loop: [7, 5, 1, 0]\n",
            "Inside while loop: [7, 5, 1]\n",
            "Inside while loop: [7, 5]\n",
            "Inside while loop: [7, 4, 3]\n",
            "Inside while loop: [7, 4, 2, 1]\n",
            "Inside while loop: [7, 4, 2]\n",
            "Inside while loop: [7, 4, 1, 0]\n",
            "Inside while loop: [7, 4, 1]\n",
            "Inside while loop: [7, 4]\n",
            "Inside while loop: [7, 3, 2]\n",
            "Inside while loop: [7, 3, 1, 0]\n",
            "Inside while loop: [7, 3, 1]\n",
            "Inside while loop: [7, 3]\n",
            "Inside while loop: [7, 2, 1]\n",
            "Inside while loop: [7, 2]\n",
            "Inside while loop: [7, 1, 0]\n",
            "Inside while loop: [7, 1]\n",
            "Inside while loop: [7]\n",
            "Inside while loop: [6, 5]\n",
            "Inside while loop: [6, 4, 3]\n",
            "Inside while loop: [6, 4, 2, 1]\n",
            "Inside while loop: [6, 4, 2]\n",
            "Inside while loop: [6, 4, 1, 0]\n",
            "Inside while loop: [6, 4, 1]\n",
            "Inside while loop: [6, 4]\n",
            "Inside while loop: [6, 3, 2]\n",
            "Inside while loop: [6, 3, 1, 0]\n",
            "Inside while loop: [6, 3, 1]\n",
            "Inside while loop: [6, 3]\n",
            "Inside while loop: [6, 2, 1]\n",
            "Inside while loop: [6, 2]\n",
            "Inside while loop: [6, 1, 0]\n",
            "Inside while loop: [6, 1]\n",
            "Inside while loop: [6]\n",
            "Inside while loop: [5, 4]\n",
            "Inside while loop: [5, 3, 2]\n",
            "Inside while loop: [5, 3, 1, 0]\n",
            "Inside while loop: [5, 3, 1]\n",
            "Inside while loop: [5, 3]\n",
            "Inside while loop: [5, 2, 1]\n",
            "Inside while loop: [5, 2]\n",
            "Inside while loop: [5, 1, 0]\n",
            "Inside while loop: [5, 1]\n",
            "Inside while loop: [5]\n",
            "Inside while loop: [4, 3]\n",
            "Inside while loop: [4, 2, 1]\n",
            "Inside while loop: [4, 2]\n",
            "Inside while loop: [4, 1, 0]\n",
            "Inside while loop: [4, 1]\n",
            "Inside while loop: [4]\n",
            "Inside while loop: [3, 2]\n",
            "Inside while loop: [3, 1, 0]\n",
            "Inside while loop: [3, 1]\n",
            "Inside while loop: [3]\n",
            "Inside while loop: [2, 1]\n",
            "Inside while loop: [2]\n",
            "Inside while loop: [1, 0]\n",
            "Inside while loop: [1]\n",
            "Inside while loop: []\n",
            "21\n"
          ]
        }
      ],
      "source": [
        "class Solution:\n",
        "  def fibRecursive(self,n):\n",
        "    if n == 0:\n",
        "      return 0\n",
        "    elif n == 1:\n",
        "      return 1\n",
        "    else: \n",
        "        return self.fibRecursive(n - 1) + self.fibRecursive(n - 2)\n",
        "  def fibIteration(self,n):\n",
        "    stack = []\n",
        "    stack.append(n)\n",
        "    #print(\"before while loop:\",stack)\n",
        "    sum = 0\n",
        "    while(len(stack) > 0):\n",
        "      n = stack.pop()\n",
        "      if n == 0:\n",
        "        sum += 0\n",
        "      elif n == 1:\n",
        "        sum += 1\n",
        "      else:\n",
        "        stack.append(n-1)\n",
        "        stack.append(n-2)\n",
        "     \n",
        "    return sum\n",
        "s = Solution()\n",
        "#print(s.fibRecursive(10))\n",
        "print(s.fibIteration(8))"
      ]
    }
  ]
}