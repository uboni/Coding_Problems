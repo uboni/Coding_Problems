{
  "nbformat": 4,
  "nbformat_minor": 0,
  "metadata": {
    "colab": {
      "provenance": [],
      "authorship_tag": "ABX9TyNN6JWuecw6z4nnzwgpT92m",
      "include_colab_link": true
    },
    "kernelspec": {
      "name": "python3",
      "display_name": "Python 3"
    },
    "language_info": {
      "name": "python"
    }
  },
  "cells": [
    {
      "cell_type": "markdown",
      "metadata": {
        "id": "view-in-github",
        "colab_type": "text"
      },
      "source": [
        "<a href=\"https://colab.research.google.com/github/uboni/Coding_Problems/blob/main/FibnaocciDynamicProgrammingApproach.ipynb\" target=\"_parent\"><img src=\"https://colab.research.google.com/assets/colab-badge.svg\" alt=\"Open In Colab\"/></a>"
      ]
    },
    {
      "cell_type": "code",
      "execution_count": 3,
      "metadata": {
        "colab": {
          "base_uri": "https://localhost:8080/"
        },
        "id": "ko0opS9xZknV",
        "outputId": "e5a7bada-b5f4-4b4a-ebc8-20332af2c127"
      },
      "outputs": [
        {
          "output_type": "stream",
          "name": "stdout",
          "text": [
            "5th Fibanocci is :5\n",
            "6th Fibanocci is :8\n",
            "7th Fibanocci is :13\n",
            "13th Fibanocci is :233\n"
          ]
        }
      ],
      "source": [
        "def calculateFibnaocci(n):\n",
        "  #create a array of size n with default values of -1 \n",
        "  memoize = [-1 for i in range(n+1)]\n",
        "  return calculateFibnaocciMemoize(memoize,n)\n",
        "def calculateFibnaocciMemoize(memoize,n):\n",
        "  if n < 2:\n",
        "    return n\n",
        "  #check if the subproblem is alerady solved and stored in cache \n",
        "  if memoize[n] >= 0:\n",
        "    return memoize[n]\n",
        "  #otherwise proceed further and calculate the fib of n and store it in memoize vector \n",
        "  memoize[n] = calculateFibnaocciMemoize(memoize,n-1) + calculateFibnaocciMemoize(memoize,n-2)\n",
        "  return memoize[n]\n",
        "def main():\n",
        "  print(\"5th Fibanocci is :\" + str(calculateFibnaocci(5)))\n",
        "  print(\"6th Fibanocci is :\" + str(calculateFibnaocci(6)))\n",
        "  print(\"7th Fibanocci is :\" + str(calculateFibnaocci(7)))\n",
        "  print(\"13th Fibanocci is :\" + str(calculateFibnaocci(13)))\n",
        "main()"
      ]
    }
  ]
}